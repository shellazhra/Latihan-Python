{
 "cells": [
  {
   "cell_type": "code",
   "execution_count": 1,
   "id": "df626e5a-7874-47dd-97f7-099d4cceccd9",
   "metadata": {},
   "outputs": [
    {
     "name": "stdout",
     "output_type": "stream",
     "text": [
      "b'<?xml version=\"1.0\" encoding=\"UTF-8\" ?>\\n<!DOCTYPE eInfoResult PUBLIC \"-//NLM//DTD einfo 20190110//EN\" \"https://eutils.ncbi.nlm.nih.gov/eutils/dtd/20190110/einfo.dtd\">\\n<eInfoResult>\\n<DbList>\\n\\n\\t<DbName>pubmed</DbName>\\n\\t<DbName>protein</DbName>\\n\\t<DbName>nuccore</DbName>\\n\\t<DbName>ipg</DbName>\\n\\t<DbName>nucleotide</DbName>\\n\\t<DbName>structure</DbName>\\n\\t<DbName>genome</DbName>\\n\\t<DbName>annotinfo</DbName>\\n\\t<DbName>assembly</DbName>\\n\\t<DbName>bioproject</DbName>\\n\\t<DbName>biosample</DbName>\\n\\t<DbName>blastdbinfo</DbName>\\n\\t<DbName>books</DbName>\\n\\t<DbName>cdd</DbName>\\n\\t<DbName>clinvar</DbName>\\n\\t<DbName>gap</DbName>\\n\\t<DbName>gapplus</DbName>\\n\\t<DbName>grasp</DbName>\\n\\t<DbName>dbvar</DbName>\\n\\t<DbName>gene</DbName>\\n\\t<DbName>gds</DbName>\\n\\t<DbName>geoprofiles</DbName>\\n\\t<DbName>homologene</DbName>\\n\\t<DbName>medgen</DbName>\\n\\t<DbName>mesh</DbName>\\n\\t<DbName>ncbisearch</DbName>\\n\\t<DbName>nlmcatalog</DbName>\\n\\t<DbName>omim</DbName>\\n\\t<DbName>orgtrack</DbName>\\n\\t<DbName>pmc</DbName>\\n\\t<DbName>popset</DbName>\\n\\t<DbName>proteinclusters</DbName>\\n\\t<DbName>pcassay</DbName>\\n\\t<DbName>protfam</DbName>\\n\\t<DbName>biosystems</DbName>\\n\\t<DbName>pccompound</DbName>\\n\\t<DbName>pcsubstance</DbName>\\n\\t<DbName>seqannot</DbName>\\n\\t<DbName>snp</DbName>\\n\\t<DbName>sra</DbName>\\n\\t<DbName>taxonomy</DbName>\\n\\t<DbName>biocollections</DbName>\\n\\t<DbName>gtr</DbName>\\n</DbList>\\n\\n</eInfoResult>\\n'\n"
     ]
    }
   ],
   "source": [
    "from Bio import Entrez\n",
    "Entrez.email = \"shellaazmii@gmail.com\" #Mandatory! Can be replaced with your personal email.\n",
    "\n",
    "#creating handle\n",
    "handle = Entrez.einfo() #invoking Bio.Entrez.einfo()\n",
    "print(handle.read())\n",
    "handle.close() #always close your handle after you finish"
   ]
  },
  {
   "cell_type": "code",
   "execution_count": 3,
   "id": "18c3cff6-37c5-4aa0-979a-527bee99d8b1",
   "metadata": {},
   "outputs": [
    {
     "name": "stdout",
     "output_type": "stream",
     "text": [
      "{'Count': '4', 'RetMax': '4', 'RetStart': '0', 'IdList': ['198401604', '166066501', '242616507', '198401616'], 'TranslationSet': [{'From': 'Pavo muticus', 'To': '\"Pavo muticus\"[Organism] OR Pavo muticus[All Fields]'}], 'TranslationStack': [{'Term': '\"Pavo muticus\"[Organism]', 'Field': 'Organism', 'Count': '114', 'Explode': 'Y'}, {'Term': 'Pavo muticus[All Fields]', 'Field': 'All Fields', 'Count': '116', 'Explode': 'N'}, 'OR', 'GROUP', {'Term': 'ATP6[All Fields]', 'Field': 'All Fields', 'Count': '145492', 'Explode': 'N'}, 'AND', 'GROUP'], 'QueryTranslation': '(\"Pavo muticus\"[Organism] OR Pavo muticus[All Fields]) AND ATP6[All Fields]'}\n"
     ]
    }
   ],
   "source": [
    "from Bio import Entrez\n",
    "Entrez.email = \"shellaazmii@gmail.com\" #Mandatory! Can be replaced with your personal email.\n",
    "#creating handle\n",
    "handle = Entrez.esearch(db=\"nuccore\", term=\"Pavo muticus ATP6\")\n",
    "record = Entrez.read(handle)\n",
    "print(record)\n",
    "handle.close() #always close your handle after you finish"
   ]
  },
  {
   "cell_type": "code",
   "execution_count": 4,
   "id": "f79eb376-ee05-4e43-b1e1-b5bca701e3e5",
   "metadata": {},
   "outputs": [
    {
     "name": "stdout",
     "output_type": "stream",
     "text": [
      "LOCUS       EU826451                 812 bp    DNA     linear   VRT 26-JUL-2016\n",
      "DEFINITION  Pavo muticus ATP synthase F0 subunit 8 (ATP8) gene, partial cds;\n",
      "            and ATP synthase F0 subunit 6 (ATP6) gene, complete cds;\n",
      "            mitochondrial.\n",
      "ACCESSION   EU826451\n",
      "VERSION     EU826451.1\n",
      "KEYWORDS    .\n",
      "SOURCE      mitochondrion Pavo muticus (green peafowl)\n",
      "  ORGANISM  Pavo muticus\n",
      "            Eukaryota; Metazoa; Chordata; Craniata; Vertebrata; Euteleostomi;\n",
      "            Archelosauria; Archosauria; Dinosauria; Saurischia; Theropoda;\n",
      "            Coelurosauria; Aves; Neognathae; Galloanserae; Galliformes;\n",
      "            Phasianidae; Phasianinae; Pavo.\n",
      "REFERENCE   1  (bases 1 to 812)\n",
      "  AUTHORS   Qu,H., Ma,F. and Li,Q.\n",
      "  TITLE     Comparative analysis of mitochondrial fragments transferred to the\n",
      "            nucleus in vertebrate\n",
      "  JOURNAL   J Genet Genomics 35 (8), 485-490 (2008)\n",
      "   PUBMED   18721785\n",
      "REFERENCE   2  (bases 1 to 812)\n",
      "  AUTHORS   Li,Q., Liu,Z., Cui,B. and Qu,H.\n",
      "  TITLE     Direct Submission\n",
      "  JOURNAL   Submitted (16-JUN-2008) College of Life Sciences, Institute of\n",
      "            Marine Genomics & Proteomics, Liaoning Normal University, Dalian,\n",
      "            Liaoning Province 116029, China\n",
      "FEATURES             Location/Qualifiers\n",
      "     source          1..812\n",
      "                     /organism=\"Pavo muticus\"\n",
      "                     /organelle=\"mitochondrion\"\n",
      "                     /mol_type=\"genomic DNA\"\n",
      "                     /db_xref=\"taxon:9050\"\n",
      "     gene            <1..128\n",
      "                     /gene=\"ATP8\"\n",
      "     CDS             <1..128\n",
      "                     /gene=\"ATP8\"\n",
      "                     /codon_start=3\n",
      "                     /transl_table=2\n",
      "                     /product=\"ATP synthase F0 subunit 8\"\n",
      "                     /protein_id=\"ACH87529.1\"\n",
      "                     /translation=\"LLTWFTFSLLIQPKLLSFIPTNNPMNKTLTTKPTPWTWPWT\"\n",
      "     gene            129..812\n",
      "                     /gene=\"ATP6\"\n",
      "     CDS             129..812\n",
      "                     /gene=\"ATP6\"\n",
      "                     /codon_start=1\n",
      "                     /transl_table=2\n",
      "                     /product=\"ATP synthase F0 subunit 6\"\n",
      "                     /protein_id=\"ACH87530.1\"\n",
      "                     /translation=\"MNLSFFDQFSTPYLLGIPLILPSLLLPALLLPSPGHRWINNRLS\n",
      "                     TIQLWFAHLITKQLMNPLNKAGHKWALLLTSLILFLLSINLLGLLPYTFTPTTQLSMN\n",
      "                     MALAFPLWLATLLTGLRNQPSTSLGHLLPEGTPTPLIPALIMIETTSLFIRPLALGVR\n",
      "                     LTANLTAGHLLIQLISTATITLLPMMPSISILTALILLLLTILEVAVAMIQAYVFVLL\n",
      "                     LSLYLQENI\"\n",
      "ORIGIN      \n",
      "        1 tactcctcac ctgattcacc ttttccctac ttatccaacc taaactactc tcatttattc\n",
      "       61 ctacaaacaa ccccatgaac aaaactttaa caacaaaacc aaccccatga acctgaccat\n",
      "      121 gaacttaaat gaacttaagc ttcttcgatc aattctcaac cccttacctc ttaggcatcc\n",
      "      181 cactgatcct tccatccctc ctgcttccag cccttctact tccttcgcca ggacatcgat\n",
      "      241 gaatcaacaa ccgcctctcc actatccaac tctgattcgc ccacctaatc acaaaacaac\n",
      "      301 taataaaccc actaaacaaa gcaggccaca aatgagccct cctattaacc tcactcatcc\n",
      "      361 tattcctcct ctccatcaac cttttaggcc tcctcccata taccttcacc cccaccaccc\n",
      "      421 aactatcaat aaacatagct ctggccttcc cactatgact tgctacccta ttaacaggcc\n",
      "      481 tgcgaaacca gccttccacc tccctgggcc acctacttcc tgaaggaacc cccacaccct\n",
      "      541 tgatcccagc cctaatcata atcgaaacaa ctagcctatt catccgacca ctagccctag\n",
      "      601 gggtacgtct aacagcaaac cttacagctg gtcatctact tattcaactc atctccacag\n",
      "      661 ctacaattac ccttctgcca ataataccat ctatctctat tctaacagca ctaatcctac\n",
      "      721 ttcttctaac tatcttagaa gtagcagtag ccataatcca agcctacgta tttgttcttc\n",
      "      781 tcctaagctt atacttacaa gaaaacattt aa\n",
      "//\n",
      "\n",
      "\n"
     ]
    }
   ],
   "source": [
    "from Bio import Entrez\n",
    "Entrez.email = \"shellaazmii@gmail.com\" #Mandatory! Can be replaced with your personal email.\n",
    "#creating EFetch handle\n",
    "efetch_handle = Entrez.efetch(db=\"nuccore\", id=\"198401604\", rettype=\"gb\", retmode=\"text\")\n",
    "gbrecord = efetch_handle.read()\n",
    "print(gbrecord)"
   ]
  },
  {
   "cell_type": "code",
   "execution_count": 5,
   "id": "a55ee432-625a-459f-8d54-ae0442ba0730",
   "metadata": {},
   "outputs": [
    {
     "name": "stdout",
     "output_type": "stream",
     "text": [
      "FASTA Download\n"
     ]
    }
   ],
   "source": [
    "import os # import os module for OS utilities\n",
    "from Bio import Entrez\n",
    "Entrez.email = \"shellaazmii@gmail.com\" #Mandatory! Can be replaced with your personal email.\n",
    "#creating EFetch handle\n",
    "filename = \"Pavo muticus ATP6.fasta\" #up to you, but FASTA files always use *.fasta or *.fas \n",
    "\n",
    "#creating EFetch handle\n",
    "if not os.path.isfile(filename):\n",
    "    # Downloading file...\n",
    "     efetch_handle = Entrez.efetch(db=\"nuccore\", id=\"198401604\", rettype=\"fasta\", retmode=\"text\")\n",
    "     output_file_handle = open(filename, \"w\")\n",
    "     output_file_handle.write(efetch_handle.read())\n",
    "     output_file_handle.close()\n",
    "     efetch_handle.close()\n",
    "print (\"FASTA Download\")"
   ]
  },
  {
   "cell_type": "code",
   "execution_count": 6,
   "id": "3cab7e91-c315-49b1-9201-0b47fce6e562",
   "metadata": {},
   "outputs": [
    {
     "name": "stdout",
     "output_type": "stream",
     "text": [
      "GB Download\n"
     ]
    }
   ],
   "source": [
    "import os # import os module for OS utilities\n",
    "from Bio import Entrez\n",
    "Entrez.email = \"shellaazmii@gmail.com\" #Mandatory! Can be replaced with your personal email.\n",
    "#creating EFetch handle\n",
    "filename = \"Pavo muticus complete genome.gbk\" #up to you, but Genbank files always use *.gb or *.gbk \n",
    "\n",
    "#creating EFetch handle\n",
    "if not os.path.isfile(filename):\n",
    "    # Downloading file...\n",
    "     efetch_handle = Entrez.efetch(db=\"nuccore\", id=\"166066501\", rettype=\"gb\", retmode=\"text\")\n",
    "     output_file_handle = open(filename, \"w\")\n",
    "     output_file_handle.write(efetch_handle.read())\n",
    "     output_file_handle.close()\n",
    "     efetch_handle.close()\n",
    "print (\"GB Download\")"
   ]
  },
  {
   "cell_type": "code",
   "execution_count": 7,
   "id": "482ad8b6-3671-4c6d-9a22-9042ea99d722",
   "metadata": {},
   "outputs": [
    {
     "name": "stdout",
     "output_type": "stream",
     "text": [
      ">ATP6|Pavo muticus mitochondrion, complete genome\n",
      "GTTCCCGTAGTTGAGAACAACAATGGCTTTTCAAGCCGTAGTCCTTGGGGTTTATCCAAGCGGGAATA\n"
     ]
    }
   ],
   "source": [
    "from Bio import SeqIO\n",
    "\n",
    "GoI = \"ATP6\"\n",
    "\n",
    "for genome in SeqIO.parse(\"Pavo muticus complete genome.gbk\",\"genbank\"):\n",
    "    for gene in genome.features:\n",
    "        if gene.type != \"CDS\":\n",
    "            continue\n",
    "        if \"gene\" not in gene.qualifiers:\n",
    "            continue\n",
    "        if GoI not in gene.qualifiers[\"gene\"][0]: \n",
    "            continue\n",
    "    gene_seq = gene.extract(genome.seq)\n",
    "\n",
    "GoI_fasta = \">%s|%s\\n%s\" % (GoI, genome.description, gene_seq)\n",
    "print(GoI_fasta)"
   ]
  },
  {
   "cell_type": "code",
   "execution_count": 8,
   "id": "0d5b293f-bbe5-4d96-a28f-1beeeb01bb08",
   "metadata": {},
   "outputs": [],
   "source": [
    "from Bio import SeqIO\n",
    "\n",
    "GoI = \"ATP6\"\n",
    "\n",
    "for genome in SeqIO.parse(\"Pavo muticus complete genome.gbk\",\"genbank\"):\n",
    "    for gene in genome.features:\n",
    "        if gene.type != \"CDS\":\n",
    "            continue\n",
    "        if \"gene\" not in gene.qualifiers:\n",
    "            continue\n",
    "        if GoI not in gene.qualifiers[\"gene\"][0]: \n",
    "            continue\n",
    "    gene_seq = gene.extract(genome.seq)\n",
    "\n",
    "GoI_fasta = \">%s|%s\\n%s\" % (GoI, genome.description, gene_seq)\n",
    "with open(\"GoI_fasta.fasta\",\"w\") as f:    \n",
    "    f.write(GoI_fasta)"
   ]
  },
  {
   "cell_type": "code",
   "execution_count": null,
   "id": "4a42ef33-e57c-4119-8a5c-54c59ebbe3b0",
   "metadata": {},
   "outputs": [],
   "source": []
  }
 ],
 "metadata": {
  "kernelspec": {
   "display_name": "Python 3 (ipykernel)",
   "language": "python",
   "name": "python3"
  },
  "language_info": {
   "codemirror_mode": {
    "name": "ipython",
    "version": 3
   },
   "file_extension": ".py",
   "mimetype": "text/x-python",
   "name": "python",
   "nbconvert_exporter": "python",
   "pygments_lexer": "ipython3",
   "version": "3.9.7"
  }
 },
 "nbformat": 4,
 "nbformat_minor": 5
}
