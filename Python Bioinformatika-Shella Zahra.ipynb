{
 "cells": [
  {
   "cell_type": "code",
   "execution_count": 1,
   "id": "27398099-5a94-478f-9c60-ac5e837d827e",
   "metadata": {},
   "outputs": [
    {
     "name": "stdout",
     "output_type": "stream",
     "text": [
      "b'<?xml version=\"1.0\" encoding=\"UTF-8\" ?>\\n<!DOCTYPE eInfoResult PUBLIC \"-//NLM//DTD einfo 20190110//EN\" \"https://eutils.ncbi.nlm.nih.gov/eutils/dtd/20190110/einfo.dtd\">\\n<eInfoResult>\\n<DbList>\\n\\n\\t<DbName>pubmed</DbName>\\n\\t<DbName>protein</DbName>\\n\\t<DbName>nuccore</DbName>\\n\\t<DbName>ipg</DbName>\\n\\t<DbName>nucleotide</DbName>\\n\\t<DbName>structure</DbName>\\n\\t<DbName>genome</DbName>\\n\\t<DbName>annotinfo</DbName>\\n\\t<DbName>assembly</DbName>\\n\\t<DbName>bioproject</DbName>\\n\\t<DbName>biosample</DbName>\\n\\t<DbName>blastdbinfo</DbName>\\n\\t<DbName>books</DbName>\\n\\t<DbName>cdd</DbName>\\n\\t<DbName>clinvar</DbName>\\n\\t<DbName>gap</DbName>\\n\\t<DbName>gapplus</DbName>\\n\\t<DbName>grasp</DbName>\\n\\t<DbName>dbvar</DbName>\\n\\t<DbName>gene</DbName>\\n\\t<DbName>gds</DbName>\\n\\t<DbName>geoprofiles</DbName>\\n\\t<DbName>homologene</DbName>\\n\\t<DbName>medgen</DbName>\\n\\t<DbName>mesh</DbName>\\n\\t<DbName>ncbisearch</DbName>\\n\\t<DbName>nlmcatalog</DbName>\\n\\t<DbName>omim</DbName>\\n\\t<DbName>orgtrack</DbName>\\n\\t<DbName>pmc</DbName>\\n\\t<DbName>popset</DbName>\\n\\t<DbName>proteinclusters</DbName>\\n\\t<DbName>pcassay</DbName>\\n\\t<DbName>protfam</DbName>\\n\\t<DbName>biosystems</DbName>\\n\\t<DbName>pccompound</DbName>\\n\\t<DbName>pcsubstance</DbName>\\n\\t<DbName>seqannot</DbName>\\n\\t<DbName>snp</DbName>\\n\\t<DbName>sra</DbName>\\n\\t<DbName>taxonomy</DbName>\\n\\t<DbName>biocollections</DbName>\\n\\t<DbName>gtr</DbName>\\n</DbList>\\n\\n</eInfoResult>\\n'\n"
     ]
    }
   ],
   "source": [
    "from Bio import Entrez\n",
    "Entrez.email = \"shellaazmii@gmail.com\" #Mandatory! Can be replaced with your personal email.\n",
    "\n",
    "#creating handle\n",
    "handle = Entrez.einfo() #invoking Bio.Entrez.einfo()\n",
    "print(handle.read())\n",
    "handle.close() #always close your handle after you finish"
   ]
  },
  {
   "cell_type": "code",
   "execution_count": 2,
   "id": "cbb4a437-0e77-44c6-bf83-e12139643987",
   "metadata": {},
   "outputs": [
    {
     "name": "stdout",
     "output_type": "stream",
     "text": [
      "{'Count': '8', 'RetMax': '8', 'RetStart': '0', 'IdList': ['198401574', '166066501', '67772417', '60287059', '2352972', '242616507', '387158687', '198401591'], 'TranslationSet': [{'From': 'Pavo muticus', 'To': '\"Pavo muticus\"[Organism] OR Pavo muticus[All Fields]'}], 'TranslationStack': [{'Term': '\"Pavo muticus\"[Organism]', 'Field': 'Organism', 'Count': '114', 'Explode': 'Y'}, {'Term': 'Pavo muticus[All Fields]', 'Field': 'All Fields', 'Count': '116', 'Explode': 'N'}, 'OR', 'GROUP', {'Term': 'CYTB[All Fields]', 'Field': 'All Fields', 'Count': '619508', 'Explode': 'N'}, 'AND', 'GROUP'], 'QueryTranslation': '(\"Pavo muticus\"[Organism] OR Pavo muticus[All Fields]) AND CYTB[All Fields]'}\n"
     ]
    }
   ],
   "source": [
    "from Bio import Entrez\n",
    "Entrez.email = \"shellaazmii@gmail.com\" #Mandatory! Can be replaced with your personal email.\n",
    "#creating handle\n",
    "handle = Entrez.esearch(db=\"nuccore\", term=\"Pavo muticus CYTB\")\n",
    "record = Entrez.read(handle)\n",
    "print(record)\n",
    "handle.close() #always close your handle after you finish"
   ]
  },
  {
   "cell_type": "code",
   "execution_count": 3,
   "id": "923ea0d6-9c1d-4163-9220-493907ba0769",
   "metadata": {},
   "outputs": [
    {
     "name": "stdout",
     "output_type": "stream",
     "text": [
      "LOCUS       EU826432                 441 bp    DNA     linear   VRT 26-JUL-2016\n",
      "DEFINITION  Pavo muticus cytochrome b (cytb) gene, partial cds; mitochondrial.\n",
      "ACCESSION   EU826432\n",
      "VERSION     EU826432.1\n",
      "KEYWORDS    .\n",
      "SOURCE      mitochondrion Pavo muticus (green peafowl)\n",
      "  ORGANISM  Pavo muticus\n",
      "            Eukaryota; Metazoa; Chordata; Craniata; Vertebrata; Euteleostomi;\n",
      "            Archelosauria; Archosauria; Dinosauria; Saurischia; Theropoda;\n",
      "            Coelurosauria; Aves; Neognathae; Galloanserae; Galliformes;\n",
      "            Phasianidae; Phasianinae; Pavo.\n",
      "REFERENCE   1  (bases 1 to 441)\n",
      "  AUTHORS   Qu,H., Ma,F. and Li,Q.\n",
      "  TITLE     Comparative analysis of mitochondrial fragments transferred to the\n",
      "            nucleus in vertebrate\n",
      "  JOURNAL   J Genet Genomics 35 (8), 485-490 (2008)\n",
      "   PUBMED   18721785\n",
      "REFERENCE   2  (bases 1 to 441)\n",
      "  AUTHORS   Li,Q., Liu,Z., Cui,B. and Qu,H.\n",
      "  TITLE     Direct Submission\n",
      "  JOURNAL   Submitted (16-JUN-2008) College of Life Sciences, Institute of\n",
      "            Marine Genomics & Proteomics, Liaoning Normal University, Dalian,\n",
      "            Liaoning Province 116029, China\n",
      "FEATURES             Location/Qualifiers\n",
      "     source          1..441\n",
      "                     /organism=\"Pavo muticus\"\n",
      "                     /organelle=\"mitochondrion\"\n",
      "                     /mol_type=\"genomic DNA\"\n",
      "                     /db_xref=\"taxon:9050\"\n",
      "     gene            <1..>441\n",
      "                     /gene=\"cytb\"\n",
      "     CDS             <1..>441\n",
      "                     /gene=\"cytb\"\n",
      "                     /codon_start=1\n",
      "                     /transl_table=2\n",
      "                     /product=\"cytochrome b\"\n",
      "                     /protein_id=\"ACH87518.1\"\n",
      "                     /translation=\"GVILLLTLMATAFVGYVLPWGQMSFWGATVITNLFSAIPYIGQT\n",
      "                     LVEWAWGGFSVDNPTLTRFFALHFLLPFVIAGITIIHLTFLHESGSNNPLGISSNSDK\n",
      "                     IPFHPYYSPKDILGLTLMFIPFLTLALFSPNLLGDPENFTPANPL\"\n",
      "ORIGIN      \n",
      "        1 ggagtaatcc tcctcctcac gctcatagca accgccttcg taggctacgt actcccatga\n",
      "       61 ggtcaaatat cattctgagg agcaactgtt atcacaaatt tattctcagc aatcccttat\n",
      "      121 atcggacaaa ccctagtaga atgagcctga ggaggattct cagtcgacaa cccaaccctt\n",
      "      181 acccgattct tcgccctaca ctttctcctc ccctttgtaa tcgcaggaat tacaattatc\n",
      "      241 cacctcacat tcctccacga atcaggctca aacaatccac taggcatctc atccaactca\n",
      "      301 gacaaaattc cattccaccc atactactcc cccaaagata tcctaggctt aacacttata\n",
      "      361 tttatcccat tcctaacact agccctattc tcacccaatc tcctaggcga cccagaaaac\n",
      "      421 tttaccccag caaatcccct a\n",
      "//\n",
      "\n",
      "\n"
     ]
    }
   ],
   "source": [
    "from Bio import Entrez\n",
    "Entrez.email = \"shellaazmii@gmail.com\" #Mandatory! Can be replaced with your personal email.\n",
    "#creating EFetch handle\n",
    "efetch_handle = Entrez.efetch(db=\"nuccore\", id=\"198401574\", rettype=\"gb\", retmode=\"text\")\n",
    "gbrecord = efetch_handle.read()\n",
    "print(gbrecord)"
   ]
  },
  {
   "cell_type": "code",
   "execution_count": 5,
   "id": "241836b2-74ae-47b5-aaf2-fcca7b3969db",
   "metadata": {},
   "outputs": [
    {
     "name": "stdout",
     "output_type": "stream",
     "text": [
      "FASTA Download\n"
     ]
    }
   ],
   "source": [
    "import os # import os module for OS utilities\n",
    "from Bio import Entrez\n",
    "Entrez.email = \"shellaazmii@gmail.com\" #Mandatory! Can be replaced with your personal email.\n",
    "#creating EFetch handle\n",
    "filename = \"Pavo muticus CYTB.fasta\" #up to you, but FASTA files always use *.fasta or *.fas \n",
    "\n",
    "#creating EFetch handle\n",
    "if not os.path.isfile(filename):\n",
    "    # Downloading file...\n",
    "     efetch_handle = Entrez.efetch(db=\"nuccore\", id=\"198401574\", rettype=\"fasta\", retmode=\"text\")\n",
    "     output_file_handle = open(filename, \"w\")\n",
    "     output_file_handle.write(efetch_handle.read())\n",
    "     output_file_handle.close()\n",
    "     efetch_handle.close()\n",
    "print (\"FASTA Download\")"
   ]
  },
  {
   "cell_type": "code",
   "execution_count": 6,
   "id": "72e85bc8-41b1-4bc5-b156-43216b907701",
   "metadata": {},
   "outputs": [
    {
     "name": "stdout",
     "output_type": "stream",
     "text": [
      "GB Download\n"
     ]
    }
   ],
   "source": [
    "import os # import os module for OS utilities\n",
    "from Bio import Entrez\n",
    "Entrez.email = \"shellaazmii@gmail.com\" #Mandatory! Can be replaced with your personal email.\n",
    "#creating EFetch handle\n",
    "filename = \"Pavo muticus complete genome.gbk\" #up to you, but Genbank files always use *.gb or *.gbk \n",
    "\n",
    "#creating EFetch handle\n",
    "if not os.path.isfile(filename):\n",
    "    # Downloading file...\n",
    "     efetch_handle = Entrez.efetch(db=\"nuccore\", id=\"166066501\", rettype=\"gb\", retmode=\"text\")\n",
    "     output_file_handle = open(filename, \"w\")\n",
    "     output_file_handle.write(efetch_handle.read())\n",
    "     output_file_handle.close()\n",
    "     efetch_handle.close()\n",
    "print (\"GB Download\")"
   ]
  },
  {
   "cell_type": "code",
   "execution_count": 11,
   "id": "df0922bf-4856-4d2e-b3b5-1f956fa7a3d2",
   "metadata": {},
   "outputs": [
    {
     "name": "stdout",
     "output_type": "stream",
     "text": [
      ">CYTB|Pavo muticus mitochondrion, complete genome\n",
      "GTTCCCGTAGTTGAGAACAACAATGGCTTTTCAAGCCGTAGTCCTTGGGGTTTATCCAAGCGGGAATA\n"
     ]
    }
   ],
   "source": [
    "from Bio import SeqIO\n",
    "\n",
    "GoI = \"CYTB\"\n",
    "\n",
    "for genome in SeqIO.parse(\"Pavo muticus complete genome.gbk\",\"genbank\"):\n",
    "    for gene in genome.features:\n",
    "        if gene.type != \"CDS\":\n",
    "            continue\n",
    "        if \"gene\" not in gene.qualifiers:\n",
    "            continue\n",
    "        if GoI not in gene.qualifiers[\"gene\"][0]: \n",
    "            continue\n",
    "    gene_seq = gene.extract(genome.seq)\n",
    "\n",
    "GoI_fasta = \">%s|%s\\n%s\" % (GoI, genome.description, gene_seq)\n",
    "print(GoI_fasta)"
   ]
  },
  {
   "cell_type": "code",
   "execution_count": 12,
   "id": "a3e1ccf9-00fb-41a3-a37a-4304dd1dc5f3",
   "metadata": {},
   "outputs": [],
   "source": [
    "from Bio import SeqIO\n",
    "\n",
    "GoI = \"CYTB\"\n",
    "\n",
    "for genome in SeqIO.parse(\"Pavo muticus complete genome.gbk\",\"genbank\"):\n",
    "    for gene in genome.features:\n",
    "        if gene.type != \"CDS\":\n",
    "            continue\n",
    "        if \"gene\" not in gene.qualifiers:\n",
    "            continue\n",
    "        if GoI not in gene.qualifiers[\"gene\"][0]: \n",
    "            continue\n",
    "    gene_seq = gene.extract(genome.seq)\n",
    "\n",
    "GoI_fasta = \">%s|%s\\n%s\" % (GoI, genome.description, gene_seq)\n",
    "with open(\"GoI_fasta.fasta\",\"w\") as f:    \n",
    "    f.write(GoI_fasta)"
   ]
  },
  {
   "cell_type": "code",
   "execution_count": null,
   "id": "a03f7230-06c2-4cac-bce8-82d0a3b6750c",
   "metadata": {},
   "outputs": [],
   "source": []
  }
 ],
 "metadata": {
  "kernelspec": {
   "display_name": "Python 3 (ipykernel)",
   "language": "python",
   "name": "python3"
  },
  "language_info": {
   "codemirror_mode": {
    "name": "ipython",
    "version": 3
   },
   "file_extension": ".py",
   "mimetype": "text/x-python",
   "name": "python",
   "nbconvert_exporter": "python",
   "pygments_lexer": "ipython3",
   "version": "3.9.7"
  }
 },
 "nbformat": 4,
 "nbformat_minor": 5
}
